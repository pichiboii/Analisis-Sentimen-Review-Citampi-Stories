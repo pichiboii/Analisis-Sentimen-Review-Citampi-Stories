{
 "cells": [
  {
   "cell_type": "markdown",
   "id": "1f1a96d4-dfe0-4a57-aae4-e56f901234db",
   "metadata": {},
   "source": [
    "# Proyek Analisis Sentimen : Review Game Citampi Stories di Play Store (Scraping Dataset)\n",
    "- **Nama:** Hafizha Aghnia Hasya\n",
    "- **Email:** \tmc006d5x2114@student.devacademy.id\n",
    "- **ID Dicoding:** MC006D5X2114"
   ]
  },
  {
   "cell_type": "markdown",
   "id": "7d6c730f-fab9-4bcf-ac8b-792a05ff071e",
   "metadata": {},
   "source": [
    "## Scraping Dataset\n",
    "- dataset merupakan review game Citampi Stories di Play Store\n",
    "- diakses pada tanggal 10 April 2025, 5.02 AM"
   ]
  },
  {
   "cell_type": "code",
   "execution_count": 1,
   "id": "a867d2cb-167e-4d6d-8c61-c8dfda6707ff",
   "metadata": {
    "tags": []
   },
   "outputs": [
    {
     "name": "stdout",
     "output_type": "stream",
     "text": [
      "Scraping selesai! Data disimpan dalam 'citampi_reviews.csv'\n"
     ]
    }
   ],
   "source": [
    "from google_play_scraper import reviews_all, Sort\n",
    "import csv\n",
    "\n",
    "# ID aplikasi Citampi Stories di Google Play Store\n",
    "app_id = 'com.ikanasinproduction.cintadicitampi'\n",
    "\n",
    "# Mengambil semua ulasan aplikasi\n",
    "scrapreview = reviews_all(\n",
    "    app_id,\n",
    "    lang='id',  # Bahasa ulasan\n",
    "    country='id',  # Negara\n",
    "    sort=Sort.MOST_RELEVANT,  # Urutan berdasarkan relevansi\n",
    "    count=100000             # Jumlah maksimum ulasan yang ingin diambil\n",
    ")\n",
    "\n",
    "# Menyimpan ulasan dalam file CSV\n",
    "with open('citampi_reviews.csv', mode='w', newline='', encoding='utf-8') as file:\n",
    "    writer = csv.writer(file)\n",
    "    writer.writerow(['Review'])  # Menulis header kolom\n",
    "    for review in scrapreview:\n",
    "        writer.writerow([review['content']])  # Menulis konten ulasan ke dalam file CSV\n",
    "\n",
    "print(\"Scraping selesai! Data disimpan dalam 'citampi_reviews.csv'\")"
   ]
  },
  {
   "cell_type": "code",
   "execution_count": null,
   "id": "b9337de3-7705-4643-842b-4b9045b848cc",
   "metadata": {},
   "outputs": [],
   "source": []
  }
 ],
 "metadata": {
  "kernelspec": {
   "display_name": "Python 3 (ipykernel)",
   "language": "python",
   "name": "python3"
  },
  "language_info": {
   "codemirror_mode": {
    "name": "ipython",
    "version": 3
   },
   "file_extension": ".py",
   "mimetype": "text/x-python",
   "name": "python",
   "nbconvert_exporter": "python",
   "pygments_lexer": "ipython3",
   "version": "3.11.3"
  }
 },
 "nbformat": 4,
 "nbformat_minor": 5
}
